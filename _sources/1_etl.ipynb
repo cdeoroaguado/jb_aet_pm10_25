{
 "cells": [
  {
   "cell_type": "markdown",
   "metadata": {},
   "source": [
    "# **Extracción, transformación y carga (ETL)**\n",
    "\n",
    "En la parte superior cargaremos los paquetes"
   ]
  },
  {
   "cell_type": "code",
   "execution_count": 175,
   "metadata": {},
   "outputs": [],
   "source": [
    "# Cargar paquetes\n",
    "import pandas as pd\n",
    "import numpy as np"
   ]
  },
  {
   "cell_type": "markdown",
   "metadata": {},
   "source": [
    "* Carguemos los datos recopilados para realizar los análisis"
   ]
  },
  {
   "cell_type": "code",
   "execution_count": 177,
   "metadata": {},
   "outputs": [
    {
     "data": {
      "text/html": [
       "<div>\n",
       "<style scoped>\n",
       "    .dataframe tbody tr th:only-of-type {\n",
       "        vertical-align: middle;\n",
       "    }\n",
       "\n",
       "    .dataframe tbody tr th {\n",
       "        vertical-align: top;\n",
       "    }\n",
       "\n",
       "    .dataframe thead th {\n",
       "        text-align: right;\n",
       "    }\n",
       "</style>\n",
       "<table border=\"1\" class=\"dataframe\">\n",
       "  <thead>\n",
       "    <tr style=\"text-align: right;\">\n",
       "      <th></th>\n",
       "      <th>Estacion</th>\n",
       "      <th>Fecha</th>\n",
       "      <th>Parametro</th>\n",
       "      <th>Concentración_mg/m3</th>\n",
       "    </tr>\n",
       "  </thead>\n",
       "  <tbody>\n",
       "    <tr>\n",
       "      <th>0</th>\n",
       "      <td>LA GLORIA</td>\n",
       "      <td>2022-12-21 00:00:00</td>\n",
       "      <td>PM 10</td>\n",
       "      <td>40.69</td>\n",
       "    </tr>\n",
       "    <tr>\n",
       "      <th>1</th>\n",
       "      <td>LA GLORIA</td>\n",
       "      <td>2022-12-20 00:00:00</td>\n",
       "      <td>PM 10</td>\n",
       "      <td>41.01</td>\n",
       "    </tr>\n",
       "    <tr>\n",
       "      <th>2</th>\n",
       "      <td>LA GLORIA</td>\n",
       "      <td>2022-12-19 00:00:00</td>\n",
       "      <td>PM 10</td>\n",
       "      <td>40.94</td>\n",
       "    </tr>\n",
       "    <tr>\n",
       "      <th>3</th>\n",
       "      <td>LA GLORIA</td>\n",
       "      <td>2022-12-18</td>\n",
       "      <td>PM 10</td>\n",
       "      <td>39.87</td>\n",
       "    </tr>\n",
       "    <tr>\n",
       "      <th>4</th>\n",
       "      <td>LA GLORIA</td>\n",
       "      <td>2022-12-17</td>\n",
       "      <td>PM 10</td>\n",
       "      <td>38.79</td>\n",
       "    </tr>\n",
       "  </tbody>\n",
       "</table>\n",
       "</div>"
      ],
      "text/plain": [
       "    Estacion                Fecha Parametro  Concentración_mg/m3\n",
       "0  LA GLORIA  2022-12-21 00:00:00     PM 10                40.69\n",
       "1  LA GLORIA  2022-12-20 00:00:00     PM 10                41.01\n",
       "2  LA GLORIA  2022-12-19 00:00:00     PM 10                40.94\n",
       "3  LA GLORIA           2022-12-18     PM 10                39.87\n",
       "4  LA GLORIA           2022-12-17     PM 10                38.79"
      ]
     },
     "execution_count": 177,
     "metadata": {},
     "output_type": "execute_result"
    }
   ],
   "source": [
    "# Cargar los datos\n",
    "datos_recopilados = pd.read_excel('C:/Users/cdeor/OneDrive/Documentos/Python/jb_aet_pm10_25/docs/_data/data_1.xlsx')\n",
    "\n",
    "# Renombrar las columnas\n",
    "datos_recopilados.rename(columns={\n",
    "    'Estacion': 'Estacion',\n",
    "    'Fecha inicial': 'Fecha',\n",
    "    'PARÁMETRO': 'Parametro',\n",
    "    'CONCENTRACIÓN mg/m3': 'Concentración_mg/m3'\n",
    "}, inplace=True)\n",
    "\n",
    "datos_recopilados.head(5)"
   ]
  },
  {
   "cell_type": "markdown",
   "metadata": {},
   "source": [
    "* Ajustemos la fecha como `datetime`:"
   ]
  },
  {
   "cell_type": "code",
   "execution_count": 179,
   "metadata": {},
   "outputs": [
    {
     "data": {
      "text/html": [
       "<div>\n",
       "<style scoped>\n",
       "    .dataframe tbody tr th:only-of-type {\n",
       "        vertical-align: middle;\n",
       "    }\n",
       "\n",
       "    .dataframe tbody tr th {\n",
       "        vertical-align: top;\n",
       "    }\n",
       "\n",
       "    .dataframe thead th {\n",
       "        text-align: right;\n",
       "    }\n",
       "</style>\n",
       "<table border=\"1\" class=\"dataframe\">\n",
       "  <thead>\n",
       "    <tr style=\"text-align: right;\">\n",
       "      <th></th>\n",
       "      <th>Estacion</th>\n",
       "      <th>Fecha</th>\n",
       "      <th>Parametro</th>\n",
       "      <th>Concentración_mg/m3</th>\n",
       "    </tr>\n",
       "  </thead>\n",
       "  <tbody>\n",
       "    <tr>\n",
       "      <th>0</th>\n",
       "      <td>LA GLORIA</td>\n",
       "      <td>2022-12-21</td>\n",
       "      <td>PM 10</td>\n",
       "      <td>40.69</td>\n",
       "    </tr>\n",
       "    <tr>\n",
       "      <th>1</th>\n",
       "      <td>LA GLORIA</td>\n",
       "      <td>2022-12-20</td>\n",
       "      <td>PM 10</td>\n",
       "      <td>41.01</td>\n",
       "    </tr>\n",
       "    <tr>\n",
       "      <th>2</th>\n",
       "      <td>LA GLORIA</td>\n",
       "      <td>2022-12-19</td>\n",
       "      <td>PM 10</td>\n",
       "      <td>40.94</td>\n",
       "    </tr>\n",
       "    <tr>\n",
       "      <th>3</th>\n",
       "      <td>LA GLORIA</td>\n",
       "      <td>2022-12-18</td>\n",
       "      <td>PM 10</td>\n",
       "      <td>39.87</td>\n",
       "    </tr>\n",
       "    <tr>\n",
       "      <th>4</th>\n",
       "      <td>LA GLORIA</td>\n",
       "      <td>2022-12-17</td>\n",
       "      <td>PM 10</td>\n",
       "      <td>38.79</td>\n",
       "    </tr>\n",
       "  </tbody>\n",
       "</table>\n",
       "</div>"
      ],
      "text/plain": [
       "    Estacion      Fecha Parametro  Concentración_mg/m3\n",
       "0  LA GLORIA 2022-12-21     PM 10                40.69\n",
       "1  LA GLORIA 2022-12-20     PM 10                41.01\n",
       "2  LA GLORIA 2022-12-19     PM 10                40.94\n",
       "3  LA GLORIA 2022-12-18     PM 10                39.87\n",
       "4  LA GLORIA 2022-12-17     PM 10                38.79"
      ]
     },
     "execution_count": 179,
     "metadata": {},
     "output_type": "execute_result"
    }
   ],
   "source": [
    "# Convertir la columna \"Fecha\" a formato datetime\n",
    "datos_recopilados['Fecha'] = pd.to_datetime(datos_recopilados['Fecha'], dayfirst=True)\n",
    "\n",
    "# Mostrar los datos para verificar\n",
    "datos_recopilados.head(5)"
   ]
  },
  {
   "cell_type": "markdown",
   "metadata": {},
   "source": [
    "* Información de los datos de recopilación"
   ]
  },
  {
   "cell_type": "code",
   "execution_count": 180,
   "metadata": {},
   "outputs": [
    {
     "name": "stdout",
     "output_type": "stream",
     "text": [
      "<class 'pandas.core.frame.DataFrame'>\n",
      "RangeIndex: 1352 entries, 0 to 1351\n",
      "Data columns (total 4 columns):\n",
      " #   Column               Non-Null Count  Dtype         \n",
      "---  ------               --------------  -----         \n",
      " 0   Estacion             1352 non-null   object        \n",
      " 1   Fecha                1352 non-null   datetime64[ns]\n",
      " 2   Parametro            1352 non-null   object        \n",
      " 3   Concentración_mg/m3  1352 non-null   float64       \n",
      "dtypes: datetime64[ns](1), float64(1), object(2)\n",
      "memory usage: 42.4+ KB\n"
     ]
    }
   ],
   "source": [
    "datos_recopilados.info()"
   ]
  },
  {
   "cell_type": "markdown",
   "metadata": {},
   "source": [
    "* Carguemos los datos de parámetros"
   ]
  },
  {
   "cell_type": "code",
   "execution_count": 181,
   "metadata": {},
   "outputs": [
    {
     "data": {
      "text/html": [
       "<div>\n",
       "<style scoped>\n",
       "    .dataframe tbody tr th:only-of-type {\n",
       "        vertical-align: middle;\n",
       "    }\n",
       "\n",
       "    .dataframe tbody tr th {\n",
       "        vertical-align: top;\n",
       "    }\n",
       "\n",
       "    .dataframe thead th {\n",
       "        text-align: right;\n",
       "    }\n",
       "</style>\n",
       "<table border=\"1\" class=\"dataframe\">\n",
       "  <thead>\n",
       "    <tr style=\"text-align: right;\">\n",
       "      <th></th>\n",
       "      <th>Fecha</th>\n",
       "      <th>Valor</th>\n",
       "      <th>Unidad</th>\n",
       "      <th>Parametros_climaticos</th>\n",
       "    </tr>\n",
       "  </thead>\n",
       "  <tbody>\n",
       "    <tr>\n",
       "      <th>0</th>\n",
       "      <td>2020-06-17</td>\n",
       "      <td>249.907970</td>\n",
       "      <td>Grados (°)</td>\n",
       "      <td>Dirección Viento</td>\n",
       "    </tr>\n",
       "    <tr>\n",
       "      <th>1</th>\n",
       "      <td>2020-06-18</td>\n",
       "      <td>106.967656</td>\n",
       "      <td>Grados (°)</td>\n",
       "      <td>Dirección Viento</td>\n",
       "    </tr>\n",
       "    <tr>\n",
       "      <th>2</th>\n",
       "      <td>2020-06-19</td>\n",
       "      <td>352.443983</td>\n",
       "      <td>Grados (°)</td>\n",
       "      <td>Dirección Viento</td>\n",
       "    </tr>\n",
       "    <tr>\n",
       "      <th>3</th>\n",
       "      <td>2020-06-20</td>\n",
       "      <td>161.221664</td>\n",
       "      <td>Grados (°)</td>\n",
       "      <td>Dirección Viento</td>\n",
       "    </tr>\n",
       "    <tr>\n",
       "      <th>4</th>\n",
       "      <td>2020-06-21</td>\n",
       "      <td>192.649780</td>\n",
       "      <td>Grados (°)</td>\n",
       "      <td>Dirección Viento</td>\n",
       "    </tr>\n",
       "  </tbody>\n",
       "</table>\n",
       "</div>"
      ],
      "text/plain": [
       "       Fecha       Valor      Unidad Parametros_climaticos\n",
       "0 2020-06-17  249.907970  Grados (°)      Dirección Viento\n",
       "1 2020-06-18  106.967656  Grados (°)      Dirección Viento\n",
       "2 2020-06-19  352.443983  Grados (°)      Dirección Viento\n",
       "3 2020-06-20  161.221664  Grados (°)      Dirección Viento\n",
       "4 2020-06-21  192.649780  Grados (°)      Dirección Viento"
      ]
     },
     "execution_count": 181,
     "metadata": {},
     "output_type": "execute_result"
    }
   ],
   "source": [
    "# Cargar los datos\n",
    "datos_parametros = pd.read_excel('C:/Users/cdeor/OneDrive/Documentos/Python/jb_aet_pm10_25/docs/_data/parametros.xlsx')\n",
    "\n",
    "# Eliminar las columnas especificadas\n",
    "datos_parametros = datos_parametros.drop(columns=['Unnamed: 1', 'Unnamed: 3'])\n",
    "\n",
    "# Renombrar las columnas\n",
    "datos_parametros.rename(columns={\n",
    "    'FECHA ': 'Fecha',\n",
    "    'VALOR': 'Valor',\n",
    "    'UNIDAD': 'Unidad',\n",
    "    'PARAMETRO': 'Parametros_climaticos'\n",
    "}, inplace=True)\n",
    "\n",
    "# Convertir la columna \"Fecha\" a formato datetime\n",
    "datos_parametros['Fecha'] = pd.to_datetime(datos_parametros['Fecha'], format='%Y-%m-%d %H:%M', errors='coerce')\n",
    "\n",
    "datos_parametros.head()"
   ]
  },
  {
   "cell_type": "markdown",
   "metadata": {},
   "source": [
    "* Información de los datos de parámetros"
   ]
  },
  {
   "cell_type": "code",
   "execution_count": 182,
   "metadata": {},
   "outputs": [
    {
     "name": "stdout",
     "output_type": "stream",
     "text": [
      "<class 'pandas.core.frame.DataFrame'>\n",
      "RangeIndex: 5171 entries, 0 to 5170\n",
      "Data columns (total 4 columns):\n",
      " #   Column                 Non-Null Count  Dtype         \n",
      "---  ------                 --------------  -----         \n",
      " 0   Fecha                  5171 non-null   datetime64[ns]\n",
      " 1   Valor                  5171 non-null   float64       \n",
      " 2   Unidad                 5171 non-null   object        \n",
      " 3   Parametros_climaticos  5171 non-null   object        \n",
      "dtypes: datetime64[ns](1), float64(1), object(2)\n",
      "memory usage: 161.7+ KB\n"
     ]
    }
   ],
   "source": [
    "datos_parametros.info()"
   ]
  },
  {
   "cell_type": "markdown",
   "metadata": {},
   "source": [
    "* Unamos los datos recopilados y los datos de parámetros"
   ]
  },
  {
   "cell_type": "code",
   "execution_count": 183,
   "metadata": {},
   "outputs": [
    {
     "name": "stdout",
     "output_type": "stream",
     "text": [
      "<class 'pandas.core.frame.DataFrame'>\n",
      "RangeIndex: 4951 entries, 0 to 4950\n",
      "Data columns (total 7 columns):\n",
      " #   Column                 Non-Null Count  Dtype         \n",
      "---  ------                 --------------  -----         \n",
      " 0   Fecha                  4951 non-null   datetime64[ns]\n",
      " 1   Valor                  4951 non-null   float64       \n",
      " 2   Unidad                 4951 non-null   object        \n",
      " 3   Parametros_climaticos  4951 non-null   object        \n",
      " 4   Estacion               4951 non-null   object        \n",
      " 5   Parametro              4951 non-null   object        \n",
      " 6   Concentración_mg/m3    4951 non-null   float64       \n",
      "dtypes: datetime64[ns](1), float64(2), object(4)\n",
      "memory usage: 270.9+ KB\n"
     ]
    }
   ],
   "source": [
    "# Unir los DataFrames por la columna \"Fecha\" usando un merge (right join para mantener todos los datos de df_recopilacion)\n",
    "df = pd.merge(datos_parametros, datos_recopilados, on='Fecha', how='right')\n",
    "df.info()"
   ]
  },
  {
   "cell_type": "markdown",
   "metadata": {},
   "source": [
    "* Veamos si todos los días mediciones de PM 10 y PM 2.5"
   ]
  },
  {
   "cell_type": "code",
   "execution_count": 95,
   "metadata": {},
   "outputs": [
    {
     "name": "stdout",
     "output_type": "stream",
     "text": [
      "Coinciden: [Timestamp('2020-09-15 00:00:00'), Timestamp('2020-09-16 00:00:00'), Timestamp('2020-09-17 00:00:00'), Timestamp('2020-09-18 00:00:00'), Timestamp('2020-09-19 00:00:00'), Timestamp('2020-09-20 00:00:00'), Timestamp('2020-09-21 00:00:00'), Timestamp('2020-09-22 00:00:00'), Timestamp('2020-09-23 00:00:00'), Timestamp('2020-09-24 00:00:00'), Timestamp('2020-09-25 00:00:00'), Timestamp('2020-09-26 00:00:00'), Timestamp('2020-09-27 00:00:00'), Timestamp('2020-09-28 00:00:00'), Timestamp('2020-09-29 00:00:00'), Timestamp('2020-09-30 00:00:00'), Timestamp('2020-10-01 00:00:00'), Timestamp('2020-10-02 00:00:00'), Timestamp('2020-10-03 00:00:00'), Timestamp('2020-10-04 00:00:00'), Timestamp('2021-09-25 00:00:00'), Timestamp('2021-09-26 00:00:00'), Timestamp('2021-09-27 00:00:00'), Timestamp('2021-09-28 00:00:00'), Timestamp('2021-09-29 00:00:00'), Timestamp('2021-09-30 00:00:00'), Timestamp('2021-10-01 00:00:00'), Timestamp('2021-10-02 00:00:00'), Timestamp('2021-10-03 00:00:00'), Timestamp('2021-10-04 00:00:00'), Timestamp('2021-10-05 00:00:00'), Timestamp('2021-10-06 00:00:00'), Timestamp('2021-10-07 00:00:00'), Timestamp('2021-10-08 00:00:00'), Timestamp('2021-10-09 00:00:00'), Timestamp('2021-10-10 00:00:00'), Timestamp('2021-10-11 00:00:00'), Timestamp('2021-10-12 00:00:00'), Timestamp('2021-10-13 00:00:00'), Timestamp('2021-10-14 00:00:00'), Timestamp('2022-10-15 00:00:00'), Timestamp('2022-10-16 00:00:00'), Timestamp('2022-10-17 00:00:00'), Timestamp('2022-10-18 00:00:00'), Timestamp('2022-10-19 00:00:00'), Timestamp('2022-10-20 00:00:00'), Timestamp('2022-10-21 00:00:00'), Timestamp('2022-10-22 00:00:00'), Timestamp('2022-10-23 00:00:00'), Timestamp('2022-10-24 00:00:00'), Timestamp('2022-10-25 00:00:00'), Timestamp('2022-10-26 00:00:00'), Timestamp('2022-10-27 00:00:00'), Timestamp('2022-10-28 00:00:00'), Timestamp('2022-10-29 00:00:00'), Timestamp('2022-10-30 00:00:00'), Timestamp('2022-10-31 00:00:00'), Timestamp('2022-11-01 00:00:00'), Timestamp('2022-11-02 00:00:00'), Timestamp('2022-11-03 00:00:00'), Timestamp('2023-10-12 00:00:00'), Timestamp('2023-10-14 00:00:00'), Timestamp('2023-10-16 00:00:00'), Timestamp('2023-10-18 00:00:00'), Timestamp('2023-10-20 00:00:00'), Timestamp('2023-10-22 00:00:00'), Timestamp('2023-10-24 00:00:00'), Timestamp('2023-10-26 00:00:00'), Timestamp('2023-10-28 00:00:00'), Timestamp('2023-11-05 00:00:00'), Timestamp('2023-11-07 00:00:00'), Timestamp('2023-11-09 00:00:00'), Timestamp('2023-11-11 00:00:00'), Timestamp('2023-11-13 00:00:00'), Timestamp('2023-11-15 00:00:00'), Timestamp('2023-11-17 00:00:00'), Timestamp('2023-11-19 00:00:00'), Timestamp('2023-11-21 00:00:00')]\n",
      "No coinciden: [Timestamp('2020-09-01 00:00:00'), Timestamp('2020-09-04 00:00:00'), Timestamp('2020-09-07 00:00:00'), Timestamp('2020-09-10 00:00:00'), Timestamp('2020-09-13 00:00:00'), Timestamp('2020-10-09 00:00:00'), Timestamp('2020-10-12 00:00:00'), Timestamp('2020-10-15 00:00:00'), Timestamp('2020-10-18 00:00:00'), Timestamp('2020-10-21 00:00:00'), Timestamp('2020-10-24 00:00:00'), Timestamp('2020-10-27 00:00:00'), Timestamp('2020-10-30 00:00:00'), Timestamp('2020-11-02 00:00:00'), Timestamp('2020-11-04 00:00:00'), Timestamp('2020-11-06 00:00:00'), Timestamp('2020-11-08 00:00:00'), Timestamp('2020-11-10 00:00:00'), Timestamp('2020-11-12 00:00:00'), Timestamp('2020-11-14 00:00:00'), Timestamp('2020-11-16 00:00:00'), Timestamp('2020-11-18 00:00:00'), Timestamp('2020-11-20 00:00:00'), Timestamp('2020-11-22 00:00:00'), Timestamp('2020-11-24 00:00:00'), Timestamp('2020-11-26 00:00:00'), Timestamp('2020-11-28 00:00:00'), Timestamp('2020-11-30 00:00:00'), Timestamp('2020-12-01 00:00:00'), Timestamp('2020-12-02 00:00:00'), Timestamp('2020-12-03 00:00:00'), Timestamp('2020-12-04 00:00:00'), Timestamp('2020-12-05 00:00:00'), Timestamp('2020-12-06 00:00:00'), Timestamp('2020-12-07 00:00:00'), Timestamp('2020-12-08 00:00:00'), Timestamp('2020-12-09 00:00:00'), Timestamp('2020-12-10 00:00:00'), Timestamp('2021-07-02 00:00:00'), Timestamp('2021-07-04 00:00:00'), Timestamp('2021-07-06 00:00:00'), Timestamp('2021-07-08 00:00:00'), Timestamp('2021-07-10 00:00:00'), Timestamp('2021-07-12 00:00:00'), Timestamp('2021-07-14 00:00:00'), Timestamp('2021-07-16 00:00:00'), Timestamp('2021-07-18 00:00:00'), Timestamp('2021-07-20 00:00:00'), Timestamp('2021-07-22 00:00:00'), Timestamp('2021-07-24 00:00:00'), Timestamp('2021-07-26 00:00:00'), Timestamp('2021-07-28 00:00:00'), Timestamp('2021-07-30 00:00:00'), Timestamp('2021-08-01 00:00:00'), Timestamp('2021-08-03 00:00:00'), Timestamp('2021-08-05 00:00:00'), Timestamp('2021-08-07 00:00:00'), Timestamp('2021-08-09 00:00:00'), Timestamp('2021-08-11 00:00:00'), Timestamp('2021-08-13 00:00:00'), Timestamp('2021-08-15 00:00:00'), Timestamp('2021-08-17 00:00:00'), Timestamp('2021-08-19 00:00:00'), Timestamp('2021-08-21 00:00:00'), Timestamp('2021-08-23 00:00:00'), Timestamp('2021-08-25 00:00:00'), Timestamp('2021-08-27 00:00:00'), Timestamp('2021-08-29 00:00:00'), Timestamp('2021-08-31 00:00:00'), Timestamp('2021-09-02 00:00:00'), Timestamp('2021-09-04 00:00:00'), Timestamp('2021-09-06 00:00:00'), Timestamp('2021-09-08 00:00:00'), Timestamp('2021-09-10 00:00:00'), Timestamp('2021-09-12 00:00:00'), Timestamp('2021-09-14 00:00:00'), Timestamp('2021-09-16 00:00:00'), Timestamp('2021-09-18 00:00:00'), Timestamp('2021-09-20 00:00:00'), Timestamp('2021-09-22 00:00:00'), Timestamp('2021-10-16 00:00:00'), Timestamp('2021-10-18 00:00:00'), Timestamp('2021-10-20 00:00:00'), Timestamp('2021-10-22 00:00:00'), Timestamp('2021-10-24 00:00:00'), Timestamp('2021-10-26 00:00:00'), Timestamp('2021-10-28 00:00:00'), Timestamp('2021-10-30 00:00:00'), Timestamp('2021-11-01 00:00:00'), Timestamp('2021-11-03 00:00:00'), Timestamp('2021-11-05 00:00:00'), Timestamp('2021-11-07 00:00:00'), Timestamp('2021-11-09 00:00:00'), Timestamp('2021-11-11 00:00:00'), Timestamp('2021-11-13 00:00:00'), Timestamp('2022-07-01 00:00:00'), Timestamp('2022-07-03 00:00:00'), Timestamp('2022-07-05 00:00:00'), Timestamp('2022-07-07 00:00:00'), Timestamp('2022-07-09 00:00:00'), Timestamp('2022-07-11 00:00:00'), Timestamp('2022-07-13 00:00:00'), Timestamp('2022-07-15 00:00:00'), Timestamp('2022-07-17 00:00:00'), Timestamp('2022-07-19 00:00:00'), Timestamp('2022-07-21 00:00:00'), Timestamp('2022-07-23 00:00:00'), Timestamp('2022-07-25 00:00:00'), Timestamp('2022-07-27 00:00:00'), Timestamp('2022-07-29 00:00:00'), Timestamp('2022-07-31 00:00:00'), Timestamp('2022-08-02 00:00:00'), Timestamp('2022-08-04 00:00:00'), Timestamp('2022-08-06 00:00:00'), Timestamp('2022-08-08 00:00:00'), Timestamp('2022-08-10 00:00:00'), Timestamp('2022-08-12 00:00:00'), Timestamp('2022-08-14 00:00:00'), Timestamp('2022-08-16 00:00:00'), Timestamp('2022-08-18 00:00:00'), Timestamp('2022-08-20 00:00:00'), Timestamp('2022-08-22 00:00:00'), Timestamp('2022-08-24 00:00:00'), Timestamp('2022-08-26 00:00:00'), Timestamp('2022-08-28 00:00:00'), Timestamp('2022-08-30 00:00:00'), Timestamp('2022-09-01 00:00:00'), Timestamp('2022-09-03 00:00:00'), Timestamp('2022-09-05 00:00:00'), Timestamp('2022-09-07 00:00:00'), Timestamp('2022-09-08 00:00:00'), Timestamp('2022-09-09 00:00:00'), Timestamp('2022-09-10 00:00:00'), Timestamp('2022-09-11 00:00:00'), Timestamp('2022-09-12 00:00:00'), Timestamp('2022-09-13 00:00:00'), Timestamp('2022-09-14 00:00:00'), Timestamp('2022-09-15 00:00:00'), Timestamp('2022-09-17 00:00:00'), Timestamp('2022-09-18 00:00:00'), Timestamp('2022-09-19 00:00:00'), Timestamp('2022-09-20 00:00:00'), Timestamp('2022-09-22 00:00:00'), Timestamp('2022-09-24 00:00:00'), Timestamp('2022-09-26 00:00:00'), Timestamp('2022-09-28 00:00:00'), Timestamp('2022-09-30 00:00:00'), Timestamp('2022-10-03 00:00:00'), Timestamp('2022-10-06 00:00:00'), Timestamp('2022-10-09 00:00:00'), Timestamp('2022-10-12 00:00:00'), Timestamp('2022-12-12 00:00:00'), Timestamp('2022-12-13 00:00:00'), Timestamp('2022-12-14 00:00:00'), Timestamp('2022-12-15 00:00:00'), Timestamp('2022-12-16 00:00:00'), Timestamp('2022-12-17 00:00:00'), Timestamp('2022-12-18 00:00:00'), Timestamp('2022-12-19 00:00:00'), Timestamp('2022-12-20 00:00:00'), Timestamp('2022-12-21 00:00:00'), Timestamp('2023-10-10 00:00:00'), Timestamp('2023-10-13 00:00:00'), Timestamp('2023-10-15 00:00:00'), Timestamp('2023-10-17 00:00:00'), Timestamp('2023-10-19 00:00:00'), Timestamp('2023-10-21 00:00:00'), Timestamp('2023-10-23 00:00:00'), Timestamp('2023-10-25 00:00:00'), Timestamp('2023-10-27 00:00:00'), Timestamp('2023-10-29 00:00:00'), Timestamp('2023-10-30 00:00:00'), Timestamp('2023-11-01 00:00:00'), Timestamp('2023-11-03 00:00:00'), Timestamp('2023-11-04 00:00:00'), Timestamp('2023-11-06 00:00:00'), Timestamp('2023-11-08 00:00:00'), Timestamp('2023-11-10 00:00:00'), Timestamp('2023-11-12 00:00:00'), Timestamp('2023-11-14 00:00:00'), Timestamp('2023-11-16 00:00:00'), Timestamp('2023-11-18 00:00:00'), Timestamp('2023-11-20 00:00:00'), Timestamp('2023-11-23 00:00:00'), Timestamp('2023-11-25 00:00:00'), Timestamp('2023-11-27 00:00:00'), Timestamp('2023-11-29 00:00:00'), Timestamp('2023-12-01 00:00:00'), Timestamp('2023-12-03 00:00:00'), Timestamp('2023-12-05 00:00:00'), Timestamp('2023-12-07 00:00:00'), Timestamp('2023-12-09 00:00:00'), Timestamp('2023-12-11 00:00:00'), Timestamp('2023-12-13 00:00:00'), Timestamp('2023-12-15 00:00:00'), Timestamp('2023-12-17 00:00:00'), Timestamp('2023-12-19 00:00:00'), Timestamp('2023-12-21 00:00:00')]\n"
     ]
    }
   ],
   "source": [
    "# Agrupar por fecha y contar las ocurrencias de PM10 y PM2.5\n",
    "df_grouped = df.groupby('Fecha')['Parametro'].value_counts().unstack().fillna(0)\n",
    "# df_grouped\n",
    "\n",
    "# Crear una columna booleana indicando si ambos valores están presentes en fechas consecutivas\n",
    "df_grouped['Ambos_presentes_consecutivos'] = (df_grouped['PM 10'] > 0) & (df_grouped['PM 2.5'] > 0)\n",
    "\n",
    "# Filtrar para obtener las fechas donde ambos valores no están presentes en fechas consecutivas\n",
    "fechas_sin_coincidencia = df_grouped[~df_grouped['Ambos_presentes_consecutivos']].index\n",
    "\n",
    "# Imprimir los resultados\n",
    "print(\"Coinciden:\", df_grouped[df_grouped['Ambos_presentes_consecutivos']].index.tolist())\n",
    "print(\"No coinciden:\", fechas_sin_coincidencia.tolist())"
   ]
  },
  {
   "cell_type": "code",
   "execution_count": 82,
   "metadata": {},
   "outputs": [
    {
     "name": "stdout",
     "output_type": "stream",
     "text": [
      "Número de fechas donde no coinciden: 198\n"
     ]
    }
   ],
   "source": [
    "# Contar el número de fechas donde ambos valores no están presentes en fechas consecutivas\n",
    "num_no_coincidencias = df_grouped[~df_grouped['Ambos_presentes_consecutivos']].shape[0]\n",
    "\n",
    "print(\"Número de fechas donde no coinciden:\", num_no_coincidencias)"
   ]
  },
  {
   "cell_type": "markdown",
   "metadata": {},
   "source": [
    "* Indexando la fecha para futuras mediciones"
   ]
  },
  {
   "cell_type": "code",
   "execution_count": 98,
   "metadata": {},
   "outputs": [
    {
     "data": {
      "text/html": [
       "<div>\n",
       "<style scoped>\n",
       "    .dataframe tbody tr th:only-of-type {\n",
       "        vertical-align: middle;\n",
       "    }\n",
       "\n",
       "    .dataframe tbody tr th {\n",
       "        vertical-align: top;\n",
       "    }\n",
       "\n",
       "    .dataframe thead th {\n",
       "        text-align: right;\n",
       "    }\n",
       "</style>\n",
       "<table border=\"1\" class=\"dataframe\">\n",
       "  <thead>\n",
       "    <tr style=\"text-align: right;\">\n",
       "      <th></th>\n",
       "      <th>Valor</th>\n",
       "      <th>Unidad</th>\n",
       "      <th>Parametros_climaticos</th>\n",
       "      <th>Estacion</th>\n",
       "      <th>Parametro</th>\n",
       "      <th>Concentración_mg/m3</th>\n",
       "    </tr>\n",
       "    <tr>\n",
       "      <th>Fecha</th>\n",
       "      <th></th>\n",
       "      <th></th>\n",
       "      <th></th>\n",
       "      <th></th>\n",
       "      <th></th>\n",
       "      <th></th>\n",
       "    </tr>\n",
       "  </thead>\n",
       "  <tbody>\n",
       "    <tr>\n",
       "      <th>2022-12-21</th>\n",
       "      <td>291.021497</td>\n",
       "      <td>Grados (°)</td>\n",
       "      <td>Dirección Viento</td>\n",
       "      <td>LA GLORIA</td>\n",
       "      <td>PM 10</td>\n",
       "      <td>40.69</td>\n",
       "    </tr>\n",
       "    <tr>\n",
       "      <th>2022-12-21</th>\n",
       "      <td>98.000000</td>\n",
       "      <td>%</td>\n",
       "      <td>Humedad</td>\n",
       "      <td>LA GLORIA</td>\n",
       "      <td>PM 10</td>\n",
       "      <td>40.69</td>\n",
       "    </tr>\n",
       "    <tr>\n",
       "      <th>2022-12-21</th>\n",
       "      <td>32.301221</td>\n",
       "      <td>°C</td>\n",
       "      <td>Temp. Maxima</td>\n",
       "      <td>LA GLORIA</td>\n",
       "      <td>PM 10</td>\n",
       "      <td>40.69</td>\n",
       "    </tr>\n",
       "    <tr>\n",
       "      <th>2022-12-21</th>\n",
       "      <td>30.796568</td>\n",
       "      <td>°C</td>\n",
       "      <td>Temp. Mínima</td>\n",
       "      <td>LA GLORIA</td>\n",
       "      <td>PM 10</td>\n",
       "      <td>40.69</td>\n",
       "    </tr>\n",
       "    <tr>\n",
       "      <th>2022-12-21</th>\n",
       "      <td>1.852968</td>\n",
       "      <td>m/s</td>\n",
       "      <td>Velocidad Viento</td>\n",
       "      <td>LA GLORIA</td>\n",
       "      <td>PM 10</td>\n",
       "      <td>40.69</td>\n",
       "    </tr>\n",
       "  </tbody>\n",
       "</table>\n",
       "</div>"
      ],
      "text/plain": [
       "                 Valor      Unidad Parametros_climaticos   Estacion Parametro  \\\n",
       "Fecha                                                                           \n",
       "2022-12-21  291.021497  Grados (°)      Dirección Viento  LA GLORIA     PM 10   \n",
       "2022-12-21   98.000000           %               Humedad  LA GLORIA     PM 10   \n",
       "2022-12-21   32.301221          °C          Temp. Maxima  LA GLORIA     PM 10   \n",
       "2022-12-21   30.796568          °C          Temp. Mínima  LA GLORIA     PM 10   \n",
       "2022-12-21    1.852968         m/s      Velocidad Viento  LA GLORIA     PM 10   \n",
       "\n",
       "            Concentración_mg/m3  \n",
       "Fecha                            \n",
       "2022-12-21                40.69  \n",
       "2022-12-21                40.69  \n",
       "2022-12-21                40.69  \n",
       "2022-12-21                40.69  \n",
       "2022-12-21                40.69  "
      ]
     },
     "execution_count": 98,
     "metadata": {},
     "output_type": "execute_result"
    }
   ],
   "source": [
    "df_2 = df.set_index('Fecha')\n",
    "df_2.head()"
   ]
  },
  {
   "cell_type": "markdown",
   "metadata": {},
   "source": [
    "## **Datos Faltantes para el PM 10**\n",
    "\n",
    "* Miraremos los datos faltantes para el PM 10"
   ]
  },
  {
   "cell_type": "code",
   "execution_count": 200,
   "metadata": {},
   "outputs": [
    {
     "data": {
      "text/html": [
       "<div>\n",
       "<style scoped>\n",
       "    .dataframe tbody tr th:only-of-type {\n",
       "        vertical-align: middle;\n",
       "    }\n",
       "\n",
       "    .dataframe tbody tr th {\n",
       "        vertical-align: top;\n",
       "    }\n",
       "\n",
       "    .dataframe thead th {\n",
       "        text-align: right;\n",
       "    }\n",
       "</style>\n",
       "<table border=\"1\" class=\"dataframe\">\n",
       "  <thead>\n",
       "    <tr style=\"text-align: right;\">\n",
       "      <th></th>\n",
       "      <th>Estacion</th>\n",
       "      <th>Fecha</th>\n",
       "      <th>Parametro</th>\n",
       "      <th>Concentración_mg/m3</th>\n",
       "    </tr>\n",
       "  </thead>\n",
       "  <tbody>\n",
       "    <tr>\n",
       "      <th>0</th>\n",
       "      <td>LA GLORIA</td>\n",
       "      <td>2022-12-21</td>\n",
       "      <td>PM 10</td>\n",
       "      <td>40.69</td>\n",
       "    </tr>\n",
       "    <tr>\n",
       "      <th>1</th>\n",
       "      <td>LA GLORIA</td>\n",
       "      <td>2022-12-20</td>\n",
       "      <td>PM 10</td>\n",
       "      <td>41.01</td>\n",
       "    </tr>\n",
       "    <tr>\n",
       "      <th>2</th>\n",
       "      <td>LA GLORIA</td>\n",
       "      <td>2022-12-19</td>\n",
       "      <td>PM 10</td>\n",
       "      <td>40.94</td>\n",
       "    </tr>\n",
       "    <tr>\n",
       "      <th>3</th>\n",
       "      <td>LA GLORIA</td>\n",
       "      <td>2022-12-18</td>\n",
       "      <td>PM 10</td>\n",
       "      <td>39.87</td>\n",
       "    </tr>\n",
       "    <tr>\n",
       "      <th>4</th>\n",
       "      <td>LA GLORIA</td>\n",
       "      <td>2022-12-17</td>\n",
       "      <td>PM 10</td>\n",
       "      <td>38.79</td>\n",
       "    </tr>\n",
       "  </tbody>\n",
       "</table>\n",
       "</div>"
      ],
      "text/plain": [
       "    Estacion      Fecha Parametro  Concentración_mg/m3\n",
       "0  LA GLORIA 2022-12-21     PM 10                40.69\n",
       "1  LA GLORIA 2022-12-20     PM 10                41.01\n",
       "2  LA GLORIA 2022-12-19     PM 10                40.94\n",
       "3  LA GLORIA 2022-12-18     PM 10                39.87\n",
       "4  LA GLORIA 2022-12-17     PM 10                38.79"
      ]
     },
     "execution_count": 200,
     "metadata": {},
     "output_type": "execute_result"
    }
   ],
   "source": [
    "datos_recopilados.head()"
   ]
  },
  {
   "cell_type": "code",
   "execution_count": null,
   "metadata": {},
   "outputs": [
    {
     "data": {
      "text/html": [
       "<div>\n",
       "<style scoped>\n",
       "    .dataframe tbody tr th:only-of-type {\n",
       "        vertical-align: middle;\n",
       "    }\n",
       "\n",
       "    .dataframe tbody tr th {\n",
       "        vertical-align: top;\n",
       "    }\n",
       "\n",
       "    .dataframe thead th {\n",
       "        text-align: right;\n",
       "    }\n",
       "</style>\n",
       "<table border=\"1\" class=\"dataframe\">\n",
       "  <thead>\n",
       "    <tr style=\"text-align: right;\">\n",
       "      <th></th>\n",
       "      <th>Estacion</th>\n",
       "      <th>Fecha</th>\n",
       "      <th>Parametro</th>\n",
       "      <th>Concentración_mg/m3</th>\n",
       "    </tr>\n",
       "  </thead>\n",
       "  <tbody>\n",
       "    <tr>\n",
       "      <th>0</th>\n",
       "      <td>LA GLORIA</td>\n",
       "      <td>2022-12-21</td>\n",
       "      <td>PM 10</td>\n",
       "      <td>40.69</td>\n",
       "    </tr>\n",
       "    <tr>\n",
       "      <th>1</th>\n",
       "      <td>LA GLORIA</td>\n",
       "      <td>2022-12-20</td>\n",
       "      <td>PM 10</td>\n",
       "      <td>41.01</td>\n",
       "    </tr>\n",
       "    <tr>\n",
       "      <th>2</th>\n",
       "      <td>LA GLORIA</td>\n",
       "      <td>2022-12-19</td>\n",
       "      <td>PM 10</td>\n",
       "      <td>40.94</td>\n",
       "    </tr>\n",
       "    <tr>\n",
       "      <th>3</th>\n",
       "      <td>LA GLORIA</td>\n",
       "      <td>2022-12-18</td>\n",
       "      <td>PM 10</td>\n",
       "      <td>39.87</td>\n",
       "    </tr>\n",
       "    <tr>\n",
       "      <th>4</th>\n",
       "      <td>LA GLORIA</td>\n",
       "      <td>2022-12-17</td>\n",
       "      <td>PM 10</td>\n",
       "      <td>38.79</td>\n",
       "    </tr>\n",
       "  </tbody>\n",
       "</table>\n",
       "</div>"
      ],
      "text/plain": [
       "    Estacion      Fecha Parametro  Concentración_mg/m3\n",
       "0  LA GLORIA 2022-12-21     PM 10                40.69\n",
       "1  LA GLORIA 2022-12-20     PM 10                41.01\n",
       "2  LA GLORIA 2022-12-19     PM 10                40.94\n",
       "3  LA GLORIA 2022-12-18     PM 10                39.87\n",
       "4  LA GLORIA 2022-12-17     PM 10                38.79"
      ]
     },
     "execution_count": 206,
     "metadata": {},
     "output_type": "execute_result"
    }
   ],
   "source": [
    "df_pm_10 = datos_recopilados[datos_recopilados['Parametro']=='PM 10']\n",
    "df_pm_10 = df_pm_10.drop_duplicates(subset=['Fecha','Estacion'], keep='first')\n",
    "\n",
    "df_pm_10.head()"
   ]
  },
  {
   "cell_type": "markdown",
   "metadata": {},
   "source": [
    "* Veamos la fecha de inicio y final de la toma de los datos"
   ]
  },
  {
   "cell_type": "code",
   "execution_count": 207,
   "metadata": {},
   "outputs": [
    {
     "name": "stdout",
     "output_type": "stream",
     "text": [
      " Fecha de inicio 2020-09-01 00:00:00\n",
      " Fecha de final 2023-12-21 00:00:00\n"
     ]
    }
   ],
   "source": [
    "# Crear un nuevo índice con todas las fechas del mes de septiembre de 2020\n",
    "fecha_inicio = df_pm_10['Fecha'].min()\n",
    "fecha_fin = df_pm_10['Fecha'].max()\n",
    "\n",
    "print(' Fecha de inicio', fecha_inicio)\n",
    "print(' Fecha de final', fecha_fin)"
   ]
  },
  {
   "cell_type": "markdown",
   "metadata": {},
   "source": [
    "* Ingreso de las fechas faltantes del PM 10"
   ]
  },
  {
   "cell_type": "code",
   "execution_count": 208,
   "metadata": {},
   "outputs": [
    {
     "name": "stdout",
     "output_type": "stream",
     "text": [
      "<class 'pandas.core.frame.DataFrame'>\n",
      "RangeIndex: 4828 entries, 0 to 4827\n",
      "Data columns (total 4 columns):\n",
      " #   Column               Non-Null Count  Dtype         \n",
      "---  ------               --------------  -----         \n",
      " 0   Fecha                4828 non-null   datetime64[ns]\n",
      " 1   Estacion             4828 non-null   object        \n",
      " 2   Parametro            4828 non-null   object        \n",
      " 3   Concentración_mg/m3  1012 non-null   float64       \n",
      "dtypes: datetime64[ns](1), float64(1), object(2)\n",
      "memory usage: 151.0+ KB\n"
     ]
    }
   ],
   "source": [
    "# Crear un índice de fechas continuo\n",
    "nuevo_indice = pd.date_range(start=fecha_inicio, end=fecha_fin)\n",
    "\n",
    "# Crear un DataFrame vacío para almacenar los resultados\n",
    "df_resultado = pd.DataFrame()\n",
    "\n",
    "# Reindexar por cada estación\n",
    "for estacion, grupo in df_pm_10.groupby('Estacion'):\n",
    "    # Reindexar el grupo utilizando el rango de fechas\n",
    "    grupo_reindexado = (\n",
    "        grupo.set_index('Fecha')\n",
    "        .reindex(nuevo_indice)\n",
    "        .reset_index()\n",
    "    )\n",
    "    # Asignar el nombre de la estación al grupo reindexado\n",
    "    grupo_reindexado['Estacion'] = estacion\n",
    "    # Rellenar los valores faltantes en \"Parametro\"\n",
    "    grupo_reindexado['Parametro'] = grupo_reindexado['Parametro'].fillna('PM 10')\n",
    "    # Renombrar la columna del índice\n",
    "    grupo_reindexado.rename(columns={'index': 'Fecha'}, inplace=True)\n",
    "    # Añadir al DataFrame final\n",
    "    df_resultado = pd.concat([df_resultado, grupo_reindexado], ignore_index=True)\n",
    "\n",
    "# Verificar el resultado\n",
    "df_resultado.info()\n"
   ]
  },
  {
   "cell_type": "code",
   "execution_count": 209,
   "metadata": {},
   "outputs": [
    {
     "data": {
      "text/html": [
       "<div>\n",
       "<style scoped>\n",
       "    .dataframe tbody tr th:only-of-type {\n",
       "        vertical-align: middle;\n",
       "    }\n",
       "\n",
       "    .dataframe tbody tr th {\n",
       "        vertical-align: top;\n",
       "    }\n",
       "\n",
       "    .dataframe thead th {\n",
       "        text-align: right;\n",
       "    }\n",
       "</style>\n",
       "<table border=\"1\" class=\"dataframe\">\n",
       "  <thead>\n",
       "    <tr style=\"text-align: right;\">\n",
       "      <th></th>\n",
       "      <th>Estacion</th>\n",
       "      <th>Cantidad de Datos</th>\n",
       "      <th>Cantidad de datos del PM 10 (no faltantes)</th>\n",
       "      <th>Valores Faltantes</th>\n",
       "      <th>Porcentaje Faltante (%)</th>\n",
       "    </tr>\n",
       "  </thead>\n",
       "  <tbody>\n",
       "    <tr>\n",
       "      <th>0</th>\n",
       "      <td>LA GLORIA</td>\n",
       "      <td>1207</td>\n",
       "      <td>255</td>\n",
       "      <td>952</td>\n",
       "      <td>78.87</td>\n",
       "    </tr>\n",
       "    <tr>\n",
       "      <th>1</th>\n",
       "      <td>TERMINAL</td>\n",
       "      <td>1207</td>\n",
       "      <td>252</td>\n",
       "      <td>955</td>\n",
       "      <td>79.12</td>\n",
       "    </tr>\n",
       "    <tr>\n",
       "      <th>2</th>\n",
       "      <td>UNISINU</td>\n",
       "      <td>1207</td>\n",
       "      <td>252</td>\n",
       "      <td>955</td>\n",
       "      <td>79.12</td>\n",
       "    </tr>\n",
       "    <tr>\n",
       "      <th>3</th>\n",
       "      <td>UPB</td>\n",
       "      <td>1207</td>\n",
       "      <td>253</td>\n",
       "      <td>954</td>\n",
       "      <td>79.04</td>\n",
       "    </tr>\n",
       "  </tbody>\n",
       "</table>\n",
       "</div>"
      ],
      "text/plain": [
       "    Estacion  Cantidad de Datos  Cantidad de datos del PM 10 (no faltantes)  \\\n",
       "0  LA GLORIA               1207                                         255   \n",
       "1   TERMINAL               1207                                         252   \n",
       "2    UNISINU               1207                                         252   \n",
       "3        UPB               1207                                         253   \n",
       "\n",
       "   Valores Faltantes  Porcentaje Faltante (%)  \n",
       "0                952                    78.87  \n",
       "1                955                    79.12  \n",
       "2                955                    79.12  \n",
       "3                954                    79.04  "
      ]
     },
     "execution_count": 209,
     "metadata": {},
     "output_type": "execute_result"
    }
   ],
   "source": [
    "df_va = df_resultado.copy()\n",
    "\n",
    "# Contar la cantidad de datos totales por estación\n",
    "cantidad_datos_por_estacion = df_va.groupby('Estacion').size().reset_index(name='Cantidad de Datos')\n",
    "\n",
    "# Contar la cantidad de datos no faltantes en \"Concentración_mg/m3\" por estación\n",
    "datos_no_faltantes = df_va.groupby('Estacion')['Concentración_mg/m3'].apply(lambda x: x.notnull().sum()).reset_index(name='Cantidad de datos del PM 10 (no faltantes)')\n",
    "\n",
    "# Revisar los datos faltantes por estación\n",
    "missing_values_by_estacion = df_va.groupby('Estacion').apply(lambda x: x.isnull().sum())\n",
    "\n",
    "# Calcular el porcentaje de valores faltantes por estación\n",
    "missing_percentage_by_estacion = df_va.groupby('Estacion').apply(lambda x: (x.isnull().mean() * 100).round(2))\n",
    "\n",
    "# Crear un DataFrame unificado\n",
    "missing_data_by_estacion = cantidad_datos_por_estacion.copy()\n",
    "missing_data_by_estacion = missing_data_by_estacion.merge(datos_no_faltantes, on='Estacion', how='left')\n",
    "missing_data_by_estacion['Valores Faltantes'] = missing_values_by_estacion['Concentración_mg/m3'].values\n",
    "missing_data_by_estacion['Porcentaje Faltante (%)'] = missing_percentage_by_estacion['Concentración_mg/m3'].values\n",
    "\n",
    "missing_data_by_estacion"
   ]
  },
  {
   "cell_type": "markdown",
   "metadata": {},
   "source": [
    "## **Datos Faltantes del PM 2.5**"
   ]
  },
  {
   "cell_type": "markdown",
   "metadata": {},
   "source": [
    "* Miremos los datos faltantes del PM 2.5"
   ]
  },
  {
   "cell_type": "code",
   "execution_count": 219,
   "metadata": {},
   "outputs": [
    {
     "data": {
      "text/html": [
       "<div>\n",
       "<style scoped>\n",
       "    .dataframe tbody tr th:only-of-type {\n",
       "        vertical-align: middle;\n",
       "    }\n",
       "\n",
       "    .dataframe tbody tr th {\n",
       "        vertical-align: top;\n",
       "    }\n",
       "\n",
       "    .dataframe thead th {\n",
       "        text-align: right;\n",
       "    }\n",
       "</style>\n",
       "<table border=\"1\" class=\"dataframe\">\n",
       "  <thead>\n",
       "    <tr style=\"text-align: right;\">\n",
       "      <th></th>\n",
       "      <th>Estacion</th>\n",
       "      <th>Fecha</th>\n",
       "      <th>Parametro</th>\n",
       "      <th>Concentración_mg/m3</th>\n",
       "    </tr>\n",
       "  </thead>\n",
       "  <tbody>\n",
       "    <tr>\n",
       "      <th>256</th>\n",
       "      <td>LA GLORIA</td>\n",
       "      <td>2022-11-03</td>\n",
       "      <td>PM 2.5</td>\n",
       "      <td>11.87</td>\n",
       "    </tr>\n",
       "    <tr>\n",
       "      <th>257</th>\n",
       "      <td>LA GLORIA</td>\n",
       "      <td>2022-11-02</td>\n",
       "      <td>PM 2.5</td>\n",
       "      <td>13.07</td>\n",
       "    </tr>\n",
       "    <tr>\n",
       "      <th>258</th>\n",
       "      <td>LA GLORIA</td>\n",
       "      <td>2022-11-01</td>\n",
       "      <td>PM 2.5</td>\n",
       "      <td>13.84</td>\n",
       "    </tr>\n",
       "    <tr>\n",
       "      <th>259</th>\n",
       "      <td>LA GLORIA</td>\n",
       "      <td>2022-10-31</td>\n",
       "      <td>PM 2.5</td>\n",
       "      <td>14.36</td>\n",
       "    </tr>\n",
       "    <tr>\n",
       "      <th>260</th>\n",
       "      <td>LA GLORIA</td>\n",
       "      <td>2022-10-30</td>\n",
       "      <td>PM 2.5</td>\n",
       "      <td>12.17</td>\n",
       "    </tr>\n",
       "  </tbody>\n",
       "</table>\n",
       "</div>"
      ],
      "text/plain": [
       "      Estacion      Fecha Parametro  Concentración_mg/m3\n",
       "256  LA GLORIA 2022-11-03    PM 2.5                11.87\n",
       "257  LA GLORIA 2022-11-02    PM 2.5                13.07\n",
       "258  LA GLORIA 2022-11-01    PM 2.5                13.84\n",
       "259  LA GLORIA 2022-10-31    PM 2.5                14.36\n",
       "260  LA GLORIA 2022-10-30    PM 2.5                12.17"
      ]
     },
     "execution_count": 219,
     "metadata": {},
     "output_type": "execute_result"
    }
   ],
   "source": [
    "df_pm_2_5 = datos_recopilados[datos_recopilados['Parametro']=='PM 2.5']\n",
    "df_pm_2_5 = df_pm_2_5.drop_duplicates(subset=['Fecha','Estacion'], keep='first')\n",
    "\n",
    "df_pm_2_5.head()"
   ]
  },
  {
   "cell_type": "markdown",
   "metadata": {},
   "source": [
    "* Ingreso de fechas faltantes del PM 2.5"
   ]
  },
  {
   "cell_type": "code",
   "execution_count": 222,
   "metadata": {},
   "outputs": [
    {
     "name": "stdout",
     "output_type": "stream",
     "text": [
      "<class 'pandas.core.frame.DataFrame'>\n",
      "RangeIndex: 4828 entries, 0 to 4827\n",
      "Data columns (total 4 columns):\n",
      " #   Column               Non-Null Count  Dtype         \n",
      "---  ------               --------------  -----         \n",
      " 0   Fecha                4828 non-null   datetime64[ns]\n",
      " 1   Estacion             4828 non-null   object        \n",
      " 2   Parametro            4828 non-null   object        \n",
      " 3   Concentración_mg/m3  338 non-null    float64       \n",
      "dtypes: datetime64[ns](1), float64(1), object(2)\n",
      "memory usage: 151.0+ KB\n"
     ]
    }
   ],
   "source": [
    "# Crear un índice de fechas continuo\n",
    "nuevo_indice = pd.date_range(start=fecha_inicio, end=fecha_fin)\n",
    "\n",
    "# Crear un DataFrame vacío para almacenar los resultados\n",
    "df_result = pd.DataFrame()\n",
    "\n",
    "# Reindexar por cada estación\n",
    "for estacion, grupo in df_pm_2_5.groupby('Estacion'):\n",
    "    # Reindexar el grupo utilizando el rango de fechas\n",
    "    grupo_reindexado = (\n",
    "        grupo.set_index('Fecha')\n",
    "        .reindex(nuevo_indice)\n",
    "        .reset_index()\n",
    "    )\n",
    "    # Asignar el nombre de la estación al grupo reindexado\n",
    "    grupo_reindexado['Estacion'] = estacion\n",
    "    # Rellenar los valores faltantes en \"Parametro\"\n",
    "    grupo_reindexado['Parametro'] = grupo_reindexado['Parametro'].fillna('PM 10')\n",
    "    # Renombrar la columna del índice\n",
    "    grupo_reindexado.rename(columns={'index': 'Fecha'}, inplace=True)\n",
    "    # Añadir al DataFrame final\n",
    "    df_result = pd.concat([df_result, grupo_reindexado], ignore_index=True)\n",
    "\n",
    "# Verificar el resultado\n",
    "df_result.info()"
   ]
  },
  {
   "cell_type": "code",
   "execution_count": 223,
   "metadata": {},
   "outputs": [
    {
     "data": {
      "text/html": [
       "<div>\n",
       "<style scoped>\n",
       "    .dataframe tbody tr th:only-of-type {\n",
       "        vertical-align: middle;\n",
       "    }\n",
       "\n",
       "    .dataframe tbody tr th {\n",
       "        vertical-align: top;\n",
       "    }\n",
       "\n",
       "    .dataframe thead th {\n",
       "        text-align: right;\n",
       "    }\n",
       "</style>\n",
       "<table border=\"1\" class=\"dataframe\">\n",
       "  <thead>\n",
       "    <tr style=\"text-align: right;\">\n",
       "      <th></th>\n",
       "      <th>Estacion</th>\n",
       "      <th>Cantidad de Datos</th>\n",
       "      <th>Cantidad de datos del PM 2.5 (no faltantes)</th>\n",
       "      <th>Valores Faltantes</th>\n",
       "      <th>Porcentaje Faltante (%)</th>\n",
       "    </tr>\n",
       "  </thead>\n",
       "  <tbody>\n",
       "    <tr>\n",
       "      <th>0</th>\n",
       "      <td>LA GLORIA</td>\n",
       "      <td>1207</td>\n",
       "      <td>78</td>\n",
       "      <td>1129</td>\n",
       "      <td>93.54</td>\n",
       "    </tr>\n",
       "    <tr>\n",
       "      <th>1</th>\n",
       "      <td>TERMINAL</td>\n",
       "      <td>1207</td>\n",
       "      <td>93</td>\n",
       "      <td>1114</td>\n",
       "      <td>92.29</td>\n",
       "    </tr>\n",
       "    <tr>\n",
       "      <th>2</th>\n",
       "      <td>UNISINU</td>\n",
       "      <td>1207</td>\n",
       "      <td>78</td>\n",
       "      <td>1129</td>\n",
       "      <td>93.54</td>\n",
       "    </tr>\n",
       "    <tr>\n",
       "      <th>3</th>\n",
       "      <td>UPB</td>\n",
       "      <td>1207</td>\n",
       "      <td>89</td>\n",
       "      <td>1118</td>\n",
       "      <td>92.63</td>\n",
       "    </tr>\n",
       "  </tbody>\n",
       "</table>\n",
       "</div>"
      ],
      "text/plain": [
       "    Estacion  Cantidad de Datos  Cantidad de datos del PM 2.5 (no faltantes)  \\\n",
       "0  LA GLORIA               1207                                           78   \n",
       "1   TERMINAL               1207                                           93   \n",
       "2    UNISINU               1207                                           78   \n",
       "3        UPB               1207                                           89   \n",
       "\n",
       "   Valores Faltantes  Porcentaje Faltante (%)  \n",
       "0               1129                    93.54  \n",
       "1               1114                    92.29  \n",
       "2               1129                    93.54  \n",
       "3               1118                    92.63  "
      ]
     },
     "execution_count": 223,
     "metadata": {},
     "output_type": "execute_result"
    }
   ],
   "source": [
    "df_va = df_result.copy()\n",
    "\n",
    "# Contar la cantidad de datos totales por estación\n",
    "cantidad_datos_por_estacion = df_va.groupby('Estacion').size().reset_index(name='Cantidad de Datos')\n",
    "\n",
    "# Contar la cantidad de datos no faltantes en \"Concentración_mg/m3\" por estación\n",
    "datos_no_faltantes = df_va.groupby('Estacion')['Concentración_mg/m3'].apply(lambda x: x.notnull().sum()).reset_index(name='Cantidad de datos del PM 2.5 (no faltantes)')\n",
    "\n",
    "# Revisar los datos faltantes por estación\n",
    "missing_values_by_estacion = df_va.groupby('Estacion').apply(lambda x: x.isnull().sum())\n",
    "\n",
    "# Calcular el porcentaje de valores faltantes por estación\n",
    "missing_percentage_by_estacion = df_va.groupby('Estacion').apply(lambda x: (x.isnull().mean() * 100).round(2))\n",
    "\n",
    "# Crear un DataFrame unificado\n",
    "missing_data_by_estacion = cantidad_datos_por_estacion.copy()\n",
    "missing_data_by_estacion = missing_data_by_estacion.merge(datos_no_faltantes, on='Estacion', how='left')\n",
    "missing_data_by_estacion['Valores Faltantes'] = missing_values_by_estacion['Concentración_mg/m3'].values\n",
    "missing_data_by_estacion['Porcentaje Faltante (%)'] = missing_percentage_by_estacion['Concentración_mg/m3'].values\n",
    "\n",
    "missing_data_by_estacion"
   ]
  }
 ],
 "metadata": {
  "kernelspec": {
   "display_name": "ml_venv",
   "language": "python",
   "name": "python3"
  },
  "language_info": {
   "codemirror_mode": {
    "name": "ipython",
    "version": 3
   },
   "file_extension": ".py",
   "mimetype": "text/x-python",
   "name": "python",
   "nbconvert_exporter": "python",
   "pygments_lexer": "ipython3",
   "version": "3.9.19"
  },
  "widgets": {
   "application/vnd.jupyter.widget-state+json": {
    "state": {},
    "version_major": 2,
    "version_minor": 0
   }
  }
 },
 "nbformat": 4,
 "nbformat_minor": 4
}
